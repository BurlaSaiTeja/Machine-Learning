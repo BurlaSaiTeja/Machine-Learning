{
 "cells": [
  {
   "cell_type": "code",
   "execution_count": 1,
   "metadata": {},
   "outputs": [],
   "source": [
    "import pandas as pd  \n",
    "import csv  "
   ]
  },
  {
   "cell_type": "code",
   "execution_count": 2,
   "metadata": {},
   "outputs": [],
   "source": [
    "train_data = pd.read_csv(\"poisonseed.csv\")"
   ]
  },
  {
   "cell_type": "code",
   "execution_count": 3,
   "metadata": {},
   "outputs": [
    {
     "name": "stdout",
     "output_type": "stream",
     "text": [
      "Rows: 7\n",
      "Columns: 5\n"
     ]
    }
   ],
   "source": [
    "cols = train_data.shape[1]\n",
    "rows = train_data.shape[0]\n",
    "print(\"Rows:\", rows)\n",
    "print(\"Columns:\", cols)"
   ]
  },
  {
   "cell_type": "code",
   "execution_count": 4,
   "metadata": {},
   "outputs": [
    {
     "data": {
      "text/html": [
       "<div>\n",
       "<style scoped>\n",
       "    .dataframe tbody tr th:only-of-type {\n",
       "        vertical-align: middle;\n",
       "    }\n",
       "\n",
       "    .dataframe tbody tr th {\n",
       "        vertical-align: top;\n",
       "    }\n",
       "\n",
       "    .dataframe thead th {\n",
       "        text-align: right;\n",
       "    }\n",
       "</style>\n",
       "<table border=\"1\" class=\"dataframe\">\n",
       "  <thead>\n",
       "    <tr style=\"text-align: right;\">\n",
       "      <th></th>\n",
       "      <th>color</th>\n",
       "      <th>toughness</th>\n",
       "      <th>fungus</th>\n",
       "      <th>apperance</th>\n",
       "      <th>poisonous</th>\n",
       "    </tr>\n",
       "  </thead>\n",
       "  <tbody>\n",
       "    <tr>\n",
       "      <th>0</th>\n",
       "      <td>green</td>\n",
       "      <td>hard</td>\n",
       "      <td>no</td>\n",
       "      <td>wrinkled</td>\n",
       "      <td>yes</td>\n",
       "    </tr>\n",
       "    <tr>\n",
       "      <th>1</th>\n",
       "      <td>green</td>\n",
       "      <td>hard</td>\n",
       "      <td>yes</td>\n",
       "      <td>smooth</td>\n",
       "      <td>no</td>\n",
       "    </tr>\n",
       "    <tr>\n",
       "      <th>2</th>\n",
       "      <td>brown</td>\n",
       "      <td>soft</td>\n",
       "      <td>no</td>\n",
       "      <td>wrinkled</td>\n",
       "      <td>no</td>\n",
       "    </tr>\n",
       "    <tr>\n",
       "      <th>3</th>\n",
       "      <td>orange</td>\n",
       "      <td>hard</td>\n",
       "      <td>no</td>\n",
       "      <td>wrinkled</td>\n",
       "      <td>yes</td>\n",
       "    </tr>\n",
       "    <tr>\n",
       "      <th>4</th>\n",
       "      <td>green</td>\n",
       "      <td>soft</td>\n",
       "      <td>yes</td>\n",
       "      <td>smooth</td>\n",
       "      <td>yes</td>\n",
       "    </tr>\n",
       "  </tbody>\n",
       "</table>\n",
       "</div>"
      ],
      "text/plain": [
       "    color toughness fungus apperance poisonous\n",
       "0   green      hard     no  wrinkled       yes\n",
       "1   green      hard    yes    smooth        no\n",
       "2   brown      soft     no  wrinkled        no\n",
       "3  orange      hard     no  wrinkled       yes\n",
       "4   green      soft    yes    smooth       yes"
      ]
     },
     "execution_count": 4,
     "metadata": {},
     "output_type": "execute_result"
    }
   ],
   "source": [
    "train_data.head()"
   ]
  },
  {
   "cell_type": "code",
   "execution_count": 5,
   "metadata": {},
   "outputs": [
    {
     "name": "stdout",
     "output_type": "stream",
     "text": [
      "Training Data:\n",
      "     color toughness fungus apperance poisonous\n",
      "0   green      hard     no  wrinkled       yes\n",
      "1   green      hard    yes    smooth        no\n",
      "2   brown      soft     no  wrinkled        no\n",
      "3  orange      hard     no  wrinkled       yes\n",
      "4   green      soft    yes    smooth       yes\n",
      "5   green      hard    yes  wrinkled       yes\n",
      "6  orange      hard     no  wrinkled       yes\n"
     ]
    }
   ],
   "source": [
    "print(\"Training Data:\\n\", train_data)"
   ]
  },
  {
   "cell_type": "code",
   "execution_count": 6,
   "metadata": {},
   "outputs": [
    {
     "name": "stdout",
     "output_type": "stream",
     "text": [
      "The most general hypothesis: ['?', '?', '?', '?']\n"
     ]
    }
   ],
   "source": [
    "general = ['?', '?', '?', '?']\n",
    "print(\"The most general hypothesis:\", general)"
   ]
  },
  {
   "cell_type": "code",
   "execution_count": 7,
   "metadata": {},
   "outputs": [
    {
     "name": "stdout",
     "output_type": "stream",
     "text": [
      "The most specific hypothesis: ['0', '0', '0', '0']\n"
     ]
    }
   ],
   "source": [
    "h = ['0', '0', '0', '0']\n",
    "print(\"The most specific hypothesis:\", h)"
   ]
  },
  {
   "cell_type": "code",
   "execution_count": 8,
   "metadata": {},
   "outputs": [],
   "source": [
    "positive_samples = []\n",
    "negative_samples = []"
   ]
  },
  {
   "cell_type": "code",
   "execution_count": 9,
   "metadata": {},
   "outputs": [],
   "source": [
    "for i in range(rows):\n",
    "  if train_data.poisonous[i] == \"yes\":\n",
    "    positive_samples.append([train_data.color[i], train_data.toughness[i], train_data.fungus[i], train_data.apperance[i]])\n",
    "  else:\n",
    "    negative_samples.append([train_data.color[i], train_data.toughness[i], train_data.fungus[i], train_data.apperance[i]])"
   ]
  },
  {
   "cell_type": "code",
   "execution_count": 10,
   "metadata": {},
   "outputs": [
    {
     "name": "stdout",
     "output_type": "stream",
     "text": [
      "Positive Samples:\n",
      " [['green', 'hard', 'no', 'wrinkled'], ['orange', 'hard', 'no', 'wrinkled'], ['green', 'soft', 'yes', 'smooth'], ['green', 'hard', 'yes', 'wrinkled'], ['orange', 'hard', 'no', 'wrinkled']]\n",
      "Negative Samples:\n",
      " [['green', 'hard', 'yes', 'smooth'], ['brown', 'soft', 'no', 'wrinkled']]\n"
     ]
    }
   ],
   "source": [
    "print(\"Positive Samples:\\n\", positive_samples)\n",
    "print(\"Negative Samples:\\n\", negative_samples)"
   ]
  },
  {
   "cell_type": "code",
   "execution_count": 11,
   "metadata": {},
   "outputs": [
    {
     "name": "stdout",
     "output_type": "stream",
     "text": [
      "For training example 0 the hypothesis is ['green', 'hard', 'no', 'wrinkled']\n",
      "For training example 1 the hypothesis is ['?', 'hard', 'no', 'wrinkled']\n",
      "For training example 2 the hypothesis is ['?', '?', '?', '?']\n",
      "For training example 3 the hypothesis is ['?', '?', '?', '?']\n",
      "For training example 4 the hypothesis is ['?', '?', '?', '?']\n"
     ]
    }
   ],
   "source": [
    "for i in range(len(positive_samples)):\n",
    "  for j in range(cols-1):\n",
    "    if h[j] == '0':\n",
    "      h[j] = positive_samples[i][j]\n",
    "    if h[j] != positive_samples[i][j]:\n",
    "      h[j] = '?'\n",
    "    else:\n",
    "      h[j] = positive_samples[i][j]\n",
    "  \n",
    "  print(\"For training example {} the hypothesis is {}\".format(i, h))"
   ]
  },
  {
   "cell_type": "code",
   "execution_count": 12,
   "metadata": {},
   "outputs": [
    {
     "name": "stdout",
     "output_type": "stream",
     "text": [
      "The maximal specific hypothesis for a given training example:\n",
      " ['?', '?', '?', '?']\n"
     ]
    }
   ],
   "source": [
    "print(\"The maximal specific hypothesis for a given training example:\\n\", h)"
   ]
  }
 ],
 "metadata": {
  "kernelspec": {
   "display_name": "Python 3",
   "language": "python",
   "name": "python3"
  },
  "language_info": {
   "codemirror_mode": {
    "name": "ipython",
    "version": 3
   },
   "file_extension": ".py",
   "mimetype": "text/x-python",
   "name": "python",
   "nbconvert_exporter": "python",
   "pygments_lexer": "ipython3",
   "version": "3.7.1"
  }
 },
 "nbformat": 4,
 "nbformat_minor": 2
}
