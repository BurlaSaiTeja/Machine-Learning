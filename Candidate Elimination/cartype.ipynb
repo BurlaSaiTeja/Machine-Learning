{
 "cells": [
  {
   "cell_type": "code",
   "execution_count": 1,
   "metadata": {},
   "outputs": [],
   "source": [
    "import pandas as pd  \n",
    "import numpy as np"
   ]
  },
  {
   "cell_type": "code",
   "execution_count": 2,
   "metadata": {},
   "outputs": [],
   "source": [
    "train_data = pd.DataFrame(pd.read_csv('cartype.csv'))"
   ]
  },
  {
   "cell_type": "code",
   "execution_count": 3,
   "metadata": {},
   "outputs": [
    {
     "name": "stdout",
     "output_type": "stream",
     "text": [
      "Rows: 7\n",
      "Columns: 6\n"
     ]
    }
   ],
   "source": [
    "cols = train_data.shape[1]\n",
    "rows = train_data.shape[0]\n",
    "print(\"Rows:\", rows)\n",
    "print(\"Columns:\", cols)"
   ]
  },
  {
   "cell_type": "code",
   "execution_count": 4,
   "metadata": {},
   "outputs": [
    {
     "data": {
      "text/html": [
       "<div>\n",
       "<style scoped>\n",
       "    .dataframe tbody tr th:only-of-type {\n",
       "        vertical-align: middle;\n",
       "    }\n",
       "\n",
       "    .dataframe tbody tr th {\n",
       "        vertical-align: top;\n",
       "    }\n",
       "\n",
       "    .dataframe thead th {\n",
       "        text-align: right;\n",
       "    }\n",
       "</style>\n",
       "<table border=\"1\" class=\"dataframe\">\n",
       "  <thead>\n",
       "    <tr style=\"text-align: right;\">\n",
       "      <th></th>\n",
       "      <th>Origin</th>\n",
       "      <th>Manufacturer</th>\n",
       "      <th>Color</th>\n",
       "      <th>Decade</th>\n",
       "      <th>Type</th>\n",
       "      <th>Example Type</th>\n",
       "    </tr>\n",
       "  </thead>\n",
       "  <tbody>\n",
       "    <tr>\n",
       "      <th>0</th>\n",
       "      <td>Japan</td>\n",
       "      <td>Honda</td>\n",
       "      <td>Blue</td>\n",
       "      <td>1980</td>\n",
       "      <td>Economy</td>\n",
       "      <td>Positive</td>\n",
       "    </tr>\n",
       "    <tr>\n",
       "      <th>1</th>\n",
       "      <td>Japan</td>\n",
       "      <td>Toyota</td>\n",
       "      <td>Green</td>\n",
       "      <td>1970</td>\n",
       "      <td>Sports</td>\n",
       "      <td>Negative</td>\n",
       "    </tr>\n",
       "    <tr>\n",
       "      <th>2</th>\n",
       "      <td>Japan</td>\n",
       "      <td>Toyota</td>\n",
       "      <td>Blue</td>\n",
       "      <td>1990</td>\n",
       "      <td>Economy</td>\n",
       "      <td>Positive</td>\n",
       "    </tr>\n",
       "    <tr>\n",
       "      <th>3</th>\n",
       "      <td>USA</td>\n",
       "      <td>Chrysler</td>\n",
       "      <td>Red</td>\n",
       "      <td>1980</td>\n",
       "      <td>Economy</td>\n",
       "      <td>Negative</td>\n",
       "    </tr>\n",
       "    <tr>\n",
       "      <th>4</th>\n",
       "      <td>Japan</td>\n",
       "      <td>Honda</td>\n",
       "      <td>White</td>\n",
       "      <td>1980</td>\n",
       "      <td>Economy</td>\n",
       "      <td>Positive</td>\n",
       "    </tr>\n",
       "  </tbody>\n",
       "</table>\n",
       "</div>"
      ],
      "text/plain": [
       "  Origin Manufacturer  Color  Decade     Type Example Type\n",
       "0  Japan        Honda   Blue    1980  Economy     Positive\n",
       "1  Japan       Toyota  Green    1970   Sports     Negative\n",
       "2  Japan       Toyota   Blue    1990  Economy     Positive\n",
       "3    USA     Chrysler    Red    1980  Economy     Negative\n",
       "4  Japan        Honda  White    1980  Economy     Positive"
      ]
     },
     "execution_count": 4,
     "metadata": {},
     "output_type": "execute_result"
    }
   ],
   "source": [
    "train_data.head()"
   ]
  },
  {
   "cell_type": "code",
   "execution_count": 5,
   "metadata": {},
   "outputs": [
    {
     "name": "stdout",
     "output_type": "stream",
     "text": [
      "Training Data:\n",
      "   Origin Manufacturer  Color  Decade     Type Example Type\n",
      "0  Japan        Honda   Blue    1980  Economy     Positive\n",
      "1  Japan       Toyota  Green    1970   Sports     Negative\n",
      "2  Japan       Toyota   Blue    1990  Economy     Positive\n",
      "3    USA     Chrysler    Red    1980  Economy     Negative\n",
      "4  Japan        Honda  White    1980  Economy     Positive\n",
      "5  Japan       Toyota  Green    1980  Economy     Positive\n",
      "6  Japan        Honda    Red    1990  Economy     Negative\n"
     ]
    }
   ],
   "source": [
    "print(\"Training Data:\\n\", train_data)"
   ]
  },
  {
   "cell_type": "code",
   "execution_count": 6,
   "metadata": {},
   "outputs": [
    {
     "name": "stdout",
     "output_type": "stream",
     "text": [
      "Concepts: \n",
      " [['Japan' 'Honda' 'Blue' 1980 'Economy']\n",
      " ['Japan' 'Toyota' 'Green' 1970 'Sports']\n",
      " ['Japan' 'Toyota' 'Blue' 1990 'Economy']\n",
      " ['USA' 'Chrysler' 'Red' 1980 'Economy']\n",
      " ['Japan' 'Honda' 'White' 1980 'Economy']\n",
      " ['Japan' 'Toyota' 'Green' 1980 'Economy']\n",
      " ['Japan' 'Honda' 'Red' 1990 'Economy']]\n",
      "Target: \n",
      " ['Positive' 'Negative' 'Positive' 'Negative' 'Positive' 'Positive'\n",
      " 'Negative']\n"
     ]
    }
   ],
   "source": [
    "concepts = np.array(train_data.iloc[:,:-1])\n",
    "target = np.array(train_data.iloc[:,-1])\n",
    "print(\"Concepts: \\n\", concepts)\n",
    "print(\"Target: \\n\", target)"
   ]
  }
 ],
 "metadata": {
  "kernelspec": {
   "display_name": "Python 3",
   "language": "python",
   "name": "python3"
  },
  "language_info": {
   "codemirror_mode": {
    "name": "ipython",
    "version": 3
   },
   "file_extension": ".py",
   "mimetype": "text/x-python",
   "name": "python",
   "nbconvert_exporter": "python",
   "pygments_lexer": "ipython3",
   "version": "3.7.7"
  }
 },
 "nbformat": 4,
 "nbformat_minor": 4
}
