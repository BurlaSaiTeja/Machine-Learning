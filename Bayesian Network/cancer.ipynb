{
 "cells": [
  {
   "cell_type": "code",
   "execution_count": 1,
   "metadata": {},
   "outputs": [],
   "source": [
    "from pgmpy.models import BayesianModel"
   ]
  },
  {
   "cell_type": "code",
   "execution_count": 2,
   "metadata": {},
   "outputs": [
    {
     "name": "stdout",
     "output_type": "stream",
     "text": [
      "\n"
     ]
    }
   ],
   "source": [
    "cancer_model = BayesianModel([(\"Pollution\", \"Cancer\"),\n",
    "                              (\"Smoker\", \"Cancer\"),\n",
    "                              (\"Cancer\", \"Xray\"),\n",
    "                              (\"Cancer\", \"Dyspnoea\")])\n",
    "\n",
    "print(cancer_model)"
   ]
  },
  {
   "cell_type": "code",
   "execution_count": 3,
   "metadata": {},
   "outputs": [
    {
     "data": {
      "text/plain": [
       "NodeView(('Pollution', 'Cancer', 'Smoker', 'Xray', 'Dyspnoea'))"
      ]
     },
     "execution_count": 3,
     "metadata": {},
     "output_type": "execute_result"
    }
   ],
   "source": [
    "cancer_model.nodes()"
   ]
  },
  {
   "cell_type": "code",
   "execution_count": 4,
   "metadata": {},
   "outputs": [
    {
     "data": {
      "text/plain": [
       "OutEdgeView([('Pollution', 'Cancer'), ('Cancer', 'Xray'), ('Cancer', 'Dyspnoea'), ('Smoker', 'Cancer')])"
      ]
     },
     "execution_count": 4,
     "metadata": {},
     "output_type": "execute_result"
    }
   ],
   "source": [
    "cancer_model.edges()"
   ]
  },
  {
   "cell_type": "code",
   "execution_count": 5,
   "metadata": {},
   "outputs": [
    {
     "data": {
      "text/plain": [
       "[]"
      ]
     },
     "execution_count": 5,
     "metadata": {},
     "output_type": "execute_result"
    }
   ],
   "source": [
    "cancer_model.get_cpds()"
   ]
  },
  {
   "cell_type": "code",
   "execution_count": 6,
   "metadata": {},
   "outputs": [],
   "source": [
    "from pgmpy.factors.discrete import TabularCPD"
   ]
  },
  {
   "cell_type": "code",
   "execution_count": 7,
   "metadata": {},
   "outputs": [],
   "source": [
    "cpd_poll = TabularCPD(variable=\"Pollution\",\n",
    "                      variable_card=2,\n",
    "                      values=[[0.9], \n",
    "                              [0.1]])"
   ]
  },
  {
   "cell_type": "code",
   "execution_count": 8,
   "metadata": {},
   "outputs": [],
   "source": [
    "cpd_smoke = TabularCPD(variable=\"Smoker\",\n",
    "                      variable_card=2,\n",
    "                      values=[[0.3], \n",
    "                              [0.7]])"
   ]
  },
  {
   "cell_type": "code",
   "execution_count": 9,
   "metadata": {},
   "outputs": [],
   "source": [
    "cpd_cancer = TabularCPD(variable=\"Cancer\",\n",
    "                      variable_card=2,\n",
    "                      values=[[0.03, 0.05, 0.001, 0.02],\n",
    "                              [0.97, 0.95, 0.999, 0.98]],\n",
    "                        evidence=[\"Smoker\", \"Pollution\"],\n",
    "                        evidence_card=[2, 2])"
   ]
  },
  {
   "cell_type": "code",
   "execution_count": 10,
   "metadata": {},
   "outputs": [],
   "source": [
    "cpd_xray = TabularCPD(variable=\"Xray\",\n",
    "                      variable_card=2,\n",
    "                      values=[[0.9, 0.2],\n",
    "                              [0.1, 0.8]],\n",
    "                        evidence=[\"Cancer\"],\n",
    "                        evidence_card=[2])"
   ]
  },
  {
   "cell_type": "code",
   "execution_count": 11,
   "metadata": {},
   "outputs": [],
   "source": [
    "cpd_dysp = TabularCPD(variable=\"Dyspnoea\",\n",
    "                      variable_card=2,\n",
    "                      values=[[0.65, 0.3],\n",
    "                              [0.35, 0.7]],\n",
    "                        evidence=[\"Cancer\"],\n",
    "                        evidence_card=[2])"
   ]
  },
  {
   "cell_type": "code",
   "execution_count": 12,
   "metadata": {},
   "outputs": [
    {
     "data": {
      "text/plain": [
       "True"
      ]
     },
     "execution_count": 12,
     "metadata": {},
     "output_type": "execute_result"
    }
   ],
   "source": [
    "cancer_model.add_cpds(cpd_poll, cpd_smoke, cpd_cancer, cpd_xray, cpd_dysp)\n",
    "cancer_model.check_model()"
   ]
  },
  {
   "cell_type": "code",
   "execution_count": 13,
   "metadata": {},
   "outputs": [
    {
     "data": {
      "text/plain": [
       "False"
      ]
     },
     "execution_count": 13,
     "metadata": {},
     "output_type": "execute_result"
    }
   ],
   "source": [
    "cancer_model.is_active_trail(\"Pollution\", \"Smoker\")"
   ]
  },
  {
   "cell_type": "code",
   "execution_count": 14,
   "metadata": {},
   "outputs": [
    {
     "data": {
      "text/plain": [
       "True"
      ]
     },
     "execution_count": 14,
     "metadata": {},
     "output_type": "execute_result"
    }
   ],
   "source": [
    "cancer_model.is_active_trail(\"Pollution\", \"Smoker\", observed=[\"Cancer\"])"
   ]
  },
  {
   "cell_type": "code",
   "execution_count": 15,
   "metadata": {},
   "outputs": [
    {
     "data": {
      "text/plain": [
       "[<TabularCPD representing P(Pollution:2) at 0x7f8670638e10>,\n",
       " <TabularCPD representing P(Smoker:2) at 0x7f8670653150>,\n",
       " <TabularCPD representing P(Cancer:2 | Smoker:2, Pollution:2) at 0x7f8670653c10>,\n",
       " <TabularCPD representing P(Xray:2 | Cancer:2) at 0x7f8670659050>,\n",
       " <TabularCPD representing P(Dyspnoea:2 | Cancer:2) at 0x7f8670659590>]"
      ]
     },
     "execution_count": 15,
     "metadata": {},
     "output_type": "execute_result"
    }
   ],
   "source": [
    "cancer_model.get_cpds()"
   ]
  },
  {
   "cell_type": "code",
   "execution_count": 16,
   "metadata": {},
   "outputs": [
    {
     "name": "stdout",
     "output_type": "stream",
     "text": [
      "+--------------+-----+\n",
      "| Pollution(0) | 0.9 |\n",
      "+--------------+-----+\n",
      "| Pollution(1) | 0.1 |\n",
      "+--------------+-----+\n"
     ]
    }
   ],
   "source": [
    "print(cancer_model.get_cpds(\"Pollution\"))"
   ]
  },
  {
   "cell_type": "code",
   "execution_count": 17,
   "metadata": {},
   "outputs": [
    {
     "name": "stdout",
     "output_type": "stream",
     "text": [
      "+-----------+-----+\n",
      "| Smoker(0) | 0.3 |\n",
      "+-----------+-----+\n",
      "| Smoker(1) | 0.7 |\n",
      "+-----------+-----+\n"
     ]
    }
   ],
   "source": [
    "print(cancer_model.get_cpds(\"Smoker\"))"
   ]
  },
  {
   "cell_type": "code",
   "execution_count": 18,
   "metadata": {},
   "outputs": [
    {
     "name": "stdout",
     "output_type": "stream",
     "text": [
      "+---------+-----------+-----------+\n",
      "| Cancer  | Cancer(0) | Cancer(1) |\n",
      "+---------+-----------+-----------+\n",
      "| Xray(0) | 0.9       | 0.2       |\n",
      "+---------+-----------+-----------+\n",
      "| Xray(1) | 0.1       | 0.8       |\n",
      "+---------+-----------+-----------+\n"
     ]
    }
   ],
   "source": [
    "print(cancer_model.get_cpds(\"Xray\"))"
   ]
  },
  {
   "cell_type": "code",
   "execution_count": 19,
   "metadata": {},
   "outputs": [
    {
     "name": "stdout",
     "output_type": "stream",
     "text": [
      "+-------------+-----------+-----------+\n",
      "| Cancer      | Cancer(0) | Cancer(1) |\n",
      "+-------------+-----------+-----------+\n",
      "| Dyspnoea(0) | 0.65      | 0.3       |\n",
      "+-------------+-----------+-----------+\n",
      "| Dyspnoea(1) | 0.35      | 0.7       |\n",
      "+-------------+-----------+-----------+\n"
     ]
    }
   ],
   "source": [
    "print(cancer_model.get_cpds(\"Dyspnoea\"))"
   ]
  },
  {
   "cell_type": "code",
   "execution_count": 20,
   "metadata": {},
   "outputs": [
    {
     "name": "stdout",
     "output_type": "stream",
     "text": [
      "+-----------+--------------+--------------+--------------+--------------+\n",
      "| Smoker    | Smoker(0)    | Smoker(0)    | Smoker(1)    | Smoker(1)    |\n",
      "+-----------+--------------+--------------+--------------+--------------+\n",
      "| Pollution | Pollution(0) | Pollution(1) | Pollution(0) | Pollution(1) |\n",
      "+-----------+--------------+--------------+--------------+--------------+\n",
      "| Cancer(0) | 0.03         | 0.05         | 0.001        | 0.02         |\n",
      "+-----------+--------------+--------------+--------------+--------------+\n",
      "| Cancer(1) | 0.97         | 0.95         | 0.999        | 0.98         |\n",
      "+-----------+--------------+--------------+--------------+--------------+\n"
     ]
    }
   ],
   "source": [
    "print(cancer_model.get_cpds(\"Cancer\"))"
   ]
  },
  {
   "cell_type": "code",
   "execution_count": 21,
   "metadata": {},
   "outputs": [
    {
     "data": {
      "text/plain": [
       "(Xray _|_ Dyspnoea, Pollution, Smoker | Cancer)"
      ]
     },
     "execution_count": 21,
     "metadata": {},
     "output_type": "execute_result"
    }
   ],
   "source": [
    "cancer_model.local_independencies(\"Xray\")"
   ]
  },
  {
   "cell_type": "code",
   "execution_count": 22,
   "metadata": {},
   "outputs": [
    {
     "data": {
      "text/plain": [
       "(Pollution _|_ Smoker)"
      ]
     },
     "execution_count": 22,
     "metadata": {},
     "output_type": "execute_result"
    }
   ],
   "source": [
    "cancer_model.local_independencies(\"Pollution\")"
   ]
  },
  {
   "cell_type": "code",
   "execution_count": 23,
   "metadata": {},
   "outputs": [
    {
     "data": {
      "text/plain": [
       "(Smoker _|_ Pollution)"
      ]
     },
     "execution_count": 23,
     "metadata": {},
     "output_type": "execute_result"
    }
   ],
   "source": [
    "cancer_model.local_independencies(\"Smoker\")"
   ]
  },
  {
   "cell_type": "code",
   "execution_count": 24,
   "metadata": {},
   "outputs": [
    {
     "data": {
      "text/plain": [
       "(Dyspnoea _|_ Pollution, Xray, Smoker | Cancer)"
      ]
     },
     "execution_count": 24,
     "metadata": {},
     "output_type": "execute_result"
    }
   ],
   "source": [
    "cancer_model.local_independencies(\"Dyspnoea\")"
   ]
  },
  {
   "cell_type": "code",
   "execution_count": 25,
   "metadata": {},
   "outputs": [
    {
     "data": {
      "text/plain": []
     },
     "execution_count": 25,
     "metadata": {},
     "output_type": "execute_result"
    }
   ],
   "source": [
    "cancer_model.local_independencies(\"Cancer\")"
   ]
  },
  {
   "cell_type": "code",
   "execution_count": 26,
   "metadata": {},
   "outputs": [
    {
     "data": {
      "text/plain": [
       "(Pollution _|_ Smoker)\n",
       "(Pollution _|_ Dyspnoea, Xray | Cancer)\n",
       "(Pollution _|_ Xray | Dyspnoea, Cancer)\n",
       "(Pollution _|_ Dyspnoea | Cancer, Xray)\n",
       "(Pollution _|_ Dyspnoea, Xray | Cancer, Smoker)\n",
       "(Pollution _|_ Xray | Dyspnoea, Cancer, Smoker)\n",
       "(Pollution _|_ Dyspnoea | Cancer, Xray, Smoker)\n",
       "(Smoker _|_ Pollution)\n",
       "(Smoker _|_ Dyspnoea, Xray | Cancer)\n",
       "(Smoker _|_ Xray | Dyspnoea, Cancer)\n",
       "(Smoker _|_ Dyspnoea, Xray | Pollution, Cancer)\n",
       "(Smoker _|_ Dyspnoea | Cancer, Xray)\n",
       "(Smoker _|_ Xray | Dyspnoea, Pollution, Cancer)\n",
       "(Smoker _|_ Dyspnoea | Pollution, Cancer, Xray)\n",
       "(Xray _|_ Dyspnoea, Pollution, Smoker | Cancer)\n",
       "(Xray _|_ Pollution, Smoker | Dyspnoea, Cancer)\n",
       "(Xray _|_ Dyspnoea, Smoker | Pollution, Cancer)\n",
       "(Xray _|_ Dyspnoea, Pollution | Cancer, Smoker)\n",
       "(Xray _|_ Smoker | Dyspnoea, Pollution, Cancer)\n",
       "(Xray _|_ Pollution | Dyspnoea, Cancer, Smoker)\n",
       "(Xray _|_ Dyspnoea | Pollution, Cancer, Smoker)\n",
       "(Dyspnoea _|_ Pollution, Xray, Smoker | Cancer)\n",
       "(Dyspnoea _|_ Xray, Smoker | Pollution, Cancer)\n",
       "(Dyspnoea _|_ Pollution, Smoker | Cancer, Xray)\n",
       "(Dyspnoea _|_ Pollution, Xray | Cancer, Smoker)\n",
       "(Dyspnoea _|_ Smoker | Pollution, Cancer, Xray)\n",
       "(Dyspnoea _|_ Xray | Pollution, Cancer, Smoker)\n",
       "(Dyspnoea _|_ Pollution | Cancer, Xray, Smoker)"
      ]
     },
     "execution_count": 26,
     "metadata": {},
     "output_type": "execute_result"
    }
   ],
   "source": [
    "cancer_model.get_independencies()"
   ]
  },
  {
   "cell_type": "code",
   "execution_count": 27,
   "metadata": {},
   "outputs": [],
   "source": [
    "from pgmpy.inference import VariableElimination"
   ]
  },
  {
   "cell_type": "code",
   "execution_count": 28,
   "metadata": {},
   "outputs": [],
   "source": [
    "cancer_infr = VariableElimination(cancer_model)"
   ]
  },
  {
   "cell_type": "code",
   "execution_count": 29,
   "metadata": {},
   "outputs": [
    {
     "name": "stderr",
     "output_type": "stream",
     "text": [
      "Finding Elimination Order: : 100%|██████████| 3/3 [00:00<00:00, 2169.09it/s]\n",
      "Eliminating: Xray: 100%|██████████| 3/3 [00:00<00:00, 629.74it/s]"
     ]
    },
    {
     "name": "stdout",
     "output_type": "stream",
     "text": [
      "+-----------+---------------+\n",
      "| Cancer    |   phi(Cancer) |\n",
      "+===========+===============+\n",
      "| Cancer(0) |        0.0029 |\n",
      "+-----------+---------------+\n",
      "| Cancer(1) |        0.9971 |\n",
      "+-----------+---------------+\n"
     ]
    },
    {
     "name": "stderr",
     "output_type": "stream",
     "text": [
      "\n"
     ]
    }
   ],
   "source": [
    "q = cancer_infr.query(variables=[\"Cancer\"], evidence={\"Smoker\": 1})\n",
    "print(q)"
   ]
  },
  {
   "cell_type": "code",
   "execution_count": 30,
   "metadata": {},
   "outputs": [
    {
     "name": "stderr",
     "output_type": "stream",
     "text": [
      "Finding Elimination Order: : 100%|██████████| 2/2 [00:00<00:00, 1272.35it/s]\n",
      "Eliminating: Xray: 100%|██████████| 2/2 [00:00<00:00, 790.78it/s]"
     ]
    },
    {
     "name": "stdout",
     "output_type": "stream",
     "text": [
      "+-----------+---------------+\n",
      "| Cancer    |   phi(Cancer) |\n",
      "+===========+===============+\n",
      "| Cancer(0) |        0.0200 |\n",
      "+-----------+---------------+\n",
      "| Cancer(1) |        0.9800 |\n",
      "+-----------+---------------+\n"
     ]
    },
    {
     "name": "stderr",
     "output_type": "stream",
     "text": [
      "\n"
     ]
    }
   ],
   "source": [
    "q = cancer_infr.query(variables=[\"Cancer\"], evidence={\"Smoker\": 1, \"Pollution\": 1})\n",
    "print(q)"
   ]
  }
 ],
 "metadata": {
  "kernelspec": {
   "display_name": "Python 3",
   "language": "python",
   "name": "python3"
  },
  "language_info": {
   "codemirror_mode": {
    "name": "ipython",
    "version": 3
   },
   "file_extension": ".py",
   "mimetype": "text/x-python",
   "name": "python",
   "nbconvert_exporter": "python",
   "pygments_lexer": "ipython3",
   "version": "3.7.7"
  }
 },
 "nbformat": 4,
 "nbformat_minor": 4
}
